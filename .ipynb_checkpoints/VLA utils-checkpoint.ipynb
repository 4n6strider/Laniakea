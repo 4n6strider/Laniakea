{
 "cells": [
  {
   "cell_type": "markdown",
   "metadata": {},
   "source": [
    "We'll start by defining some classes, let's create a flowline class to hold each flowline"
   ]
  },
  {
   "cell_type": "code",
   "execution_count": 119,
   "metadata": {
    "collapsed": false
   },
   "outputs": [],
   "source": [
    "import math\n",
    "def Dist3D(A,B):\n",
    "    d = math.sqrt((A[0]-B[0])*(A[0]-B[0])+\\\n",
    "                 (A[1]-B[1])*(A[1]-B[1])+\\\n",
    "                 (A[2]-B[2])*(A[2]-B[2]))\n",
    "    return(d)\n",
    "class FlowLine:\n",
    "  def __init__(self):\n",
    "    # we'll use negative values to indicate uninitalized quantities\n",
    "    self.length = -1.0\n",
    "    self.N = -1\n",
    "    self.points = []\n",
    "  def getN(self):\n",
    "    self.N=len(self.points)\n",
    "  def calcLength(self):\n",
    "    self.length=0.0\n",
    "    for i in range(len(self.points)-1):\n",
    "        self.length = self.length + \\\n",
    "        Dist3D(self.points[i],self.points[i+1])\n",
    "  def fracInterp(self,f):\n",
    "    if (f<0.0):\n",
    "        return(self.points[0])\n",
    "    elif (f>1.0):\n",
    "        return(self.points[self.N-1])\n",
    "    else:\n",
    "        n0=int(f*(self.N-1))\n",
    "        x=f*(self.N-1)-n0\n",
    "        val_x = self.points[n0][0] + x*(self.points[n0+1][0]-self.points[n0][0])\n",
    "        val_y = self.points[n0][1] + x*(self.points[n0+1][1]-self.points[n0][1])\n",
    "        val_z = self.points[n0][2] + x*(self.points[n0+1][2]-self.points[n0][2])\n",
    "        return((val_x,val_y,val_z))\n"
   ]
  },
  {
   "cell_type": "markdown",
   "metadata": {},
   "source": [
    "##Subset VLA\n",
    "This routine filters out all but every *Nfrac*-th line of each segment of the .vla file. Note right now the code isn't smart enough to make sure that it includes the endpoint of each segment - should probably fix that."
   ]
  },
  {
   "cell_type": "code",
   "execution_count": null,
   "metadata": {
    "collapsed": true
   },
   "outputs": [],
   "source": []
  },
  {
   "cell_type": "code",
   "execution_count": 1,
   "metadata": {
    "collapsed": false
   },
   "outputs": [],
   "source": [
    "    Nfrac = 40\n",
    "    readfile=open('Shows\\models\\SDvision_Laniakea_streamlines_v001.vla',\"r\")\n",
    "    writefile=open('Shows\\models\\Laniakea_streamlines_p025.vla',\"w\")\n",
    "    count = 1\n",
    "    for line in readfile:\n",
    "        if (line.find('P ')==0):\n",
    "            if (count !=1):\n",
    "                writefile.write(oldline)                \n",
    "                count=1;\n",
    "        if (line.find('L ')!=0 or count%Nfrac ==0):\n",
    "            writefile.write(line)\n",
    "        if (line.find('L ')==0):\n",
    "            count=count+1\n",
    "            oldline=line\n",
    "    writefile.close()\n",
    "    readfile.close()"
   ]
  },
  {
   "cell_type": "markdown",
   "metadata": {
    "collapsed": false
   },
   "source": [
    "##Convert VLA\n",
    "This routine converts the km/s units to Mpc in a .vla file.\n"
   ]
  },
  {
   "cell_type": "code",
   "execution_count": 110,
   "metadata": {
    "collapsed": false
   },
   "outputs": [],
   "source": [
    "from astropy import units as u\n",
    "from astropy.cosmology import Planck13\n",
    "readfile=open('Shows\\models\\Laniakea_streamlines_p025.vla',\"r\")\n",
    "writefile=open('Shows\\models\\Laniakea_streamlines_Mpc_p025.vla',\"w\")\n",
    "for line in readfile:\n",
    "    if (line.find('L ')!=0 and line.find('P ')!=0):\n",
    "        #pass along the header and blank lines\n",
    "        writefile.write(line)\n",
    "    else:\n",
    "        elements = line.split()\n",
    "        outline = elements[0]+ \" %7.3f  %7.3f  %7.3f 1\\n\" % \\\n",
    "          (((float(elements[1])*u.km/u.s)/Planck13.H(0)).value, \\\n",
    "          ((float(elements[2])*u.km/u.s)/Planck13.H(0)).value, \\\n",
    "          ((float(elements[3])*u.km/u.s)/Planck13.H(0)).value )\n",
    "        writefile.write(outline)\n",
    "writefile.close()\n",
    "readfile.close()"
   ]
  },
  {
   "cell_type": "code",
   "execution_count": 39,
   "metadata": {
    "collapsed": false
   },
   "outputs": [
    {
     "data": {
      "text/latex": [
       "$67.77 \\; \\mathrm{\\frac{km}{Mpc\\,s}}$"
      ],
      "text/plain": [
       "<Quantity 67.77 km / (Mpc s)>"
      ]
     },
     "execution_count": 39,
     "metadata": {},
     "output_type": "execute_result"
    }
   ],
   "source": [
    "Planck13.H(0)"
   ]
  },
  {
   "cell_type": "markdown",
   "metadata": {
    "collapsed": true
   },
   "source": [
    "##Creating Flow animation"
   ]
  },
  {
   "cell_type": "markdown",
   "metadata": {},
   "source": [
    "###Import Flows"
   ]
  },
  {
   "cell_type": "code",
   "execution_count": 120,
   "metadata": {
    "collapsed": false
   },
   "outputs": [],
   "source": [
    "FlowList = []\n",
    "readfile=open('Shows\\models\\SDvision_Laniakea_streamlines_v001.vla',\"r\")\n",
    "#writefile=open('Shows\\models\\Laniakea_flow.speck',\"w\")\n",
    "start=False\n",
    "for line in readfile:\n",
    "    if (line.find('P ')==0):\n",
    "        if (start):\n",
    "            FlowList.append(flowline)\n",
    "        start=True\n",
    "        elements = line.split()\n",
    "        flowline = FlowLine()\n",
    "        flowline.points.append((float(elements[1]),float(elements[2]),float(elements[3])))\n",
    "    elif (line.find('L ')==0):\n",
    "        elements = line.split()\n",
    "        flowline.points.append((float(elements[1]),float(elements[2]),float(elements[3])))\n",
    "FlowList.append(flowline)\n",
    "\n",
    "for flow in FlowList:\n",
    "    flow.getN()\n",
    "    flow.calcLength()\n",
    "    \n",
    "readfile.close()"
   ]
  },
  {
   "cell_type": "code",
   "execution_count": 121,
   "metadata": {
    "collapsed": false
   },
   "outputs": [
    {
     "data": {
      "text/plain": [
       "(-4598.8035, -1017.941, 4081.0985)"
      ]
     },
     "execution_count": 121,
     "metadata": {},
     "output_type": "execute_result"
    }
   ],
   "source": [
    "FlowList[3].fracInterp(0.5)"
   ]
  },
  {
   "cell_type": "code",
   "execution_count": 115,
   "metadata": {
    "collapsed": false
   },
   "outputs": [
    {
     "data": {
      "text/plain": [
       "(-4604.142, -1011.665, 4079.613)"
      ]
     },
     "execution_count": 115,
     "metadata": {},
     "output_type": "execute_result"
    }
   ],
   "source": [
    "FlowList[3].points[500]"
   ]
  },
  {
   "cell_type": "code",
   "execution_count": 118,
   "metadata": {
    "collapsed": false
   },
   "outputs": [
    {
     "data": {
      "text/plain": [
       "(-4593.465, -1024.217, 4082.584)"
      ]
     },
     "execution_count": 118,
     "metadata": {},
     "output_type": "execute_result"
    }
   ],
   "source": [
    "FlowList[3].points[499]"
   ]
  },
  {
   "cell_type": "code",
   "execution_count": 88,
   "metadata": {
    "collapsed": false
   },
   "outputs": [
    {
     "data": {
      "text/plain": [
       "3"
      ]
     },
     "execution_count": 88,
     "metadata": {},
     "output_type": "execute_result"
    }
   ],
   "source": [
    "int(3.7)"
   ]
  },
  {
   "cell_type": "code",
   "execution_count": 123,
   "metadata": {
    "collapsed": false
   },
   "outputs": [
    {
     "ename": "TypeError",
     "evalue": "range() integer step argument expected, got float.",
     "output_type": "error",
     "traceback": [
      "\u001b[1;31m---------------------------------------------------------------------------\u001b[0m",
      "\u001b[1;31mTypeError\u001b[0m                                 Traceback (most recent call last)",
      "\u001b[1;32m<ipython-input-123-1822ced36d79>\u001b[0m in \u001b[0;36m<module>\u001b[1;34m()\u001b[0m\n\u001b[1;32m----> 1\u001b[1;33m \u001b[0mrange\u001b[0m\u001b[1;33m(\u001b[0m\u001b[1;36m0\u001b[0m\u001b[1;33m,\u001b[0m\u001b[1;36m7\u001b[0m\u001b[1;33m,\u001b[0m\u001b[1;36m0.1\u001b[0m\u001b[1;33m)\u001b[0m\u001b[1;33m\u001b[0m\u001b[0m\n\u001b[0m",
      "\u001b[1;31mTypeError\u001b[0m: range() integer step argument expected, got float."
     ]
    }
   ],
   "source": [
    "startPositions = [0.0,0.1,0.2,0.3,0.4,0.5,0.6,0.7]"
   ]
  }
 ],
 "metadata": {
  "kernelspec": {
   "display_name": "Python 2",
   "language": "python",
   "name": "python2"
  },
  "language_info": {
   "codemirror_mode": {
    "name": "ipython",
    "version": 2
   },
   "file_extension": ".py",
   "mimetype": "text/x-python",
   "name": "python",
   "nbconvert_exporter": "python",
   "pygments_lexer": "ipython2",
   "version": "2.7.6"
  }
 },
 "nbformat": 4,
 "nbformat_minor": 0
}
