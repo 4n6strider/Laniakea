{
 "cells": [
  {
   "cell_type": "markdown",
   "metadata": {},
   "source": [
    "##Subset VLA\n",
    "This routine filters out all but every *Nfrac*-th line of each segment of the .vla file. Note right now the code isn't smart enough to make sure that it includes the endpoint of each segment - should probably fix that."
   ]
  },
  {
   "cell_type": "code",
   "execution_count": 1,
   "metadata": {
    "collapsed": false
   },
   "outputs": [],
   "source": [
    "    Nfrac = 40\n",
    "    readfile=open('Shows\\models\\SDvision_Laniakea_streamlines_v001.vla',\"r\")\n",
    "    writefile=open('Shows\\models\\Laniakea_streamlines_p025.vla',\"w\")\n",
    "    count = 1\n",
    "    for line in readfile:\n",
    "        if (line.find('P ')==0):\n",
    "            if (count !=1):\n",
    "                writefile.write(oldline)                \n",
    "                count=1;\n",
    "        if (line.find('L ')!=0 or count%Nfrac ==0):\n",
    "            writefile.write(line)\n",
    "        if (line.find('L ')==0):\n",
    "            count=count+1\n",
    "            oldline=line\n",
    "    writefile.close()\n",
    "    readfile.close()"
   ]
  },
  {
   "cell_type": "markdown",
   "metadata": {
    "collapsed": false
   },
   "source": [
    "##Convert VLA\n",
    "This routine converts the km/s units to Mpc in a .vla file.\n"
   ]
  },
  {
   "cell_type": "code",
   "execution_count": 2,
   "metadata": {
    "collapsed": false
   },
   "outputs": [],
   "source": [
    "from astropy import units as u\n",
    "from astropy.cosmology import Planck13\n",
    "readfile=open('Shows\\models\\Laniakea_streamlines_p025.vla',\"r\")\n",
    "writefile=open('Shows\\models\\Laniakea_streamlines_Mpc_p025.vla',\"w\")\n",
    "for line in readfile:\n",
    "    if (line.find('L ')!=0 and line.find('P ')!=0):\n",
    "        #pass along the header and blank lines\n",
    "        writefile.write(line)\n",
    "    else:\n",
    "        elements = line.split()\n",
    "        outline = elements[0]+ \" %7.3f  %7.3f  %7.3f 1\\n\" % \\\n",
    "          (((float(elements[1])*u.km/u.s)/Planck13.H(0)).value, \\\n",
    "          ((float(elements[2])*u.km/u.s)/Planck13.H(0)).value, \\\n",
    "          ((float(elements[3])*u.km/u.s)/Planck13.H(0)).value )\n",
    "        writefile.write(outline)\n",
    "writefile.close()\n",
    "readfile.close()"
   ]
  },
  {
   "cell_type": "code",
   "execution_count": 39,
   "metadata": {
    "collapsed": false
   },
   "outputs": [
    {
     "data": {
      "text/latex": [
       "$67.77 \\; \\mathrm{\\frac{km}{Mpc\\,s}}$"
      ],
      "text/plain": [
       "<Quantity 67.77 km / (Mpc s)>"
      ]
     },
     "execution_count": 39,
     "metadata": {},
     "output_type": "execute_result"
    }
   ],
   "source": [
    "Planck13.H(0)"
   ]
  },
  {
   "cell_type": "code",
   "execution_count": null,
   "metadata": {
    "collapsed": true
   },
   "outputs": [],
   "source": []
  }
 ],
 "metadata": {
  "kernelspec": {
   "display_name": "Python 2",
   "language": "python",
   "name": "python2"
  },
  "language_info": {
   "codemirror_mode": {
    "name": "ipython",
    "version": 2
   },
   "file_extension": ".py",
   "mimetype": "text/x-python",
   "name": "python",
   "nbconvert_exporter": "python",
   "pygments_lexer": "ipython2",
   "version": "2.7.6"
  }
 },
 "nbformat": 4,
 "nbformat_minor": 0
}
